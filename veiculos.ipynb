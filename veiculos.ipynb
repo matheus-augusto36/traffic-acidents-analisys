{
 "cells": [
  {
   "cell_type": "code",
   "execution_count": 4,
   "id": "b963b7ba",
   "metadata": {},
   "outputs": [],
   "source": [
    "import pandas as pd"
   ]
  },
  {
   "cell_type": "code",
   "execution_count": 5,
   "id": "e6213ece",
   "metadata": {},
   "outputs": [],
   "source": [
    "pd.set_option('display.max_columns', None)"
   ]
  },
  {
   "cell_type": "code",
   "execution_count": 6,
   "id": "ac609012",
   "metadata": {},
   "outputs": [],
   "source": [
    "df_veiculos = pd.read_excel('Formato Novo/veiculos_2022-2025.xlsx')"
   ]
  },
  {
   "cell_type": "code",
   "execution_count": 18,
   "id": "ff951626",
   "metadata": {},
   "outputs": [
    {
     "data": {
      "text/plain": [
       "tipo_veiculo\n",
       "Automovel      320453\n",
       "Motocicleta    275146\n",
       "Caminhao        27675\n",
       "Outros          21389\n",
       "Onibus          16549\n",
       "Bicicleta         389\n",
       "Name: count, dtype: int64"
      ]
     },
     "execution_count": 18,
     "metadata": {},
     "output_type": "execute_result"
    }
   ],
   "source": [
    "df_veiculos.tipo_veiculo.value_counts()"
   ]
  },
  {
   "cell_type": "code",
   "execution_count": 15,
   "id": "749c10c2",
   "metadata": {},
   "outputs": [],
   "source": [
    "df_veiculos.tipo_veiculo = df_veiculos.tipo_veiculo.str.title()"
   ]
  },
  {
   "cell_type": "code",
   "execution_count": 17,
   "id": "814eddaf",
   "metadata": {},
   "outputs": [],
   "source": [
    "df_veiculos.tipo_veiculo = df_veiculos.tipo_veiculo.replace(\"Nao Disponivel\", None)"
   ]
  },
  {
   "cell_type": "code",
   "execution_count": 22,
   "id": "883252ac",
   "metadata": {},
   "outputs": [
    {
     "data": {
      "text/plain": [
       "cor_veiculo\n",
       "Preta                   159121\n",
       "Branca                  121322\n",
       "Prata                   116157\n",
       "Vermelha                 85629\n",
       "Cinza                    67419\n",
       "Azul                     44861\n",
       "Verde                    12883\n",
       "Amarela                   6952\n",
       "Branco                    5816\n",
       "Bege                      4554\n",
       "Vermelho                  3005\n",
       "Laranja                   2666\n",
       "Marrom                    2147\n",
       "Roxa                      1934\n",
       "Fantasia                  1045\n",
       "Dourada                   1014\n",
       "Rosa                       583\n",
       "Amarelo                    415\n",
       "Vermelha/Preta             193\n",
       "Branca (Padrao Pm)         129\n",
       "Grena                      125\n",
       "Branca/Vermelha             90\n",
       "Branca (Padrao Cpamb        77\n",
       "Cinza Bandeirante           61\n",
       "Cin/Ver/Pre                 54\n",
       "Branca/Cinza Escuro         34\n",
       "Não Informado               32\n",
       "Branca (Padrao Cprv)        25\n",
       "Cinza Pm (Padrao Rot        23\n",
       "Branca Padrao Cptran        20\n",
       "Branca/Cinza Bandeir        15\n",
       "Sem Identificação           11\n",
       "Camuflado Urbano             3\n",
       "Camuflado Rural              2\n",
       "Name: count, dtype: int64"
      ]
     },
     "execution_count": 22,
     "metadata": {},
     "output_type": "execute_result"
    }
   ],
   "source": [
    "df_veiculos.cor_veiculo.value_counts()"
   ]
  },
  {
   "cell_type": "code",
   "execution_count": 21,
   "id": "1ea655c8",
   "metadata": {},
   "outputs": [],
   "source": [
    "df_veiculos.cor_veiculo = df_veiculos.cor_veiculo.str.title()"
   ]
  },
  {
   "cell_type": "code",
   "execution_count": 24,
   "id": "c307d40f",
   "metadata": {},
   "outputs": [],
   "source": [
    "df_veiculos = df_veiculos.drop(columns={\n",
    "    'ano_sinistro',\n",
    "    'mes_sinistro',\n",
    "    'dia_sinistro',\n",
    "    'ano_mes_sinistro'\n",
    "})"
   ]
  },
  {
   "cell_type": "code",
   "execution_count": 25,
   "id": "e9a4011d",
   "metadata": {},
   "outputs": [
    {
     "data": {
      "text/html": [
       "<div>\n",
       "<style scoped>\n",
       "    .dataframe tbody tr th:only-of-type {\n",
       "        vertical-align: middle;\n",
       "    }\n",
       "\n",
       "    .dataframe tbody tr th {\n",
       "        vertical-align: top;\n",
       "    }\n",
       "\n",
       "    .dataframe thead th {\n",
       "        text-align: right;\n",
       "    }\n",
       "</style>\n",
       "<table border=\"1\" class=\"dataframe\">\n",
       "  <thead>\n",
       "    <tr style=\"text-align: right;\">\n",
       "      <th></th>\n",
       "      <th>id_sinistro</th>\n",
       "      <th>ano_fab</th>\n",
       "      <th>ano_modelo</th>\n",
       "      <th>cor_veiculo</th>\n",
       "      <th>data_sinistro</th>\n",
       "      <th>tipo_veiculo</th>\n",
       "    </tr>\n",
       "  </thead>\n",
       "  <tbody>\n",
       "    <tr>\n",
       "      <th>0</th>\n",
       "      <td>2264832</td>\n",
       "      <td>0.0</td>\n",
       "      <td>0.0</td>\n",
       "      <td>NaN</td>\n",
       "      <td>2022-01-01</td>\n",
       "      <td>None</td>\n",
       "    </tr>\n",
       "    <tr>\n",
       "      <th>1</th>\n",
       "      <td>1820312</td>\n",
       "      <td>0.0</td>\n",
       "      <td>0.0</td>\n",
       "      <td>NaN</td>\n",
       "      <td>2022-01-01</td>\n",
       "      <td>None</td>\n",
       "    </tr>\n",
       "    <tr>\n",
       "      <th>2</th>\n",
       "      <td>1948466</td>\n",
       "      <td>0.0</td>\n",
       "      <td>0.0</td>\n",
       "      <td>NaN</td>\n",
       "      <td>2022-01-01</td>\n",
       "      <td>None</td>\n",
       "    </tr>\n",
       "    <tr>\n",
       "      <th>3</th>\n",
       "      <td>1334206</td>\n",
       "      <td>2015.0</td>\n",
       "      <td>2016.0</td>\n",
       "      <td>Marrom</td>\n",
       "      <td>2022-01-01</td>\n",
       "      <td>Automovel</td>\n",
       "    </tr>\n",
       "    <tr>\n",
       "      <th>4</th>\n",
       "      <td>1510855</td>\n",
       "      <td>2016.0</td>\n",
       "      <td>2016.0</td>\n",
       "      <td>Cinza</td>\n",
       "      <td>2022-01-01</td>\n",
       "      <td>Automovel</td>\n",
       "    </tr>\n",
       "    <tr>\n",
       "      <th>...</th>\n",
       "      <td>...</td>\n",
       "      <td>...</td>\n",
       "      <td>...</td>\n",
       "      <td>...</td>\n",
       "      <td>...</td>\n",
       "      <td>...</td>\n",
       "    </tr>\n",
       "    <tr>\n",
       "      <th>757616</th>\n",
       "      <td>2607776</td>\n",
       "      <td>NaN</td>\n",
       "      <td>NaN</td>\n",
       "      <td>NaN</td>\n",
       "      <td>2025-05-31</td>\n",
       "      <td>Automovel</td>\n",
       "    </tr>\n",
       "    <tr>\n",
       "      <th>757617</th>\n",
       "      <td>2608697</td>\n",
       "      <td>2013.0</td>\n",
       "      <td>2013.0</td>\n",
       "      <td>Prata</td>\n",
       "      <td>2025-05-31</td>\n",
       "      <td>Automovel</td>\n",
       "    </tr>\n",
       "    <tr>\n",
       "      <th>757618</th>\n",
       "      <td>2608031</td>\n",
       "      <td>2009.0</td>\n",
       "      <td>2010.0</td>\n",
       "      <td>Prata</td>\n",
       "      <td>2025-05-31</td>\n",
       "      <td>Automovel</td>\n",
       "    </tr>\n",
       "    <tr>\n",
       "      <th>757619</th>\n",
       "      <td>2610195</td>\n",
       "      <td>2022.0</td>\n",
       "      <td>2023.0</td>\n",
       "      <td>Bege</td>\n",
       "      <td>2025-05-31</td>\n",
       "      <td>Motocicleta</td>\n",
       "    </tr>\n",
       "    <tr>\n",
       "      <th>757620</th>\n",
       "      <td>2610195</td>\n",
       "      <td>2024.0</td>\n",
       "      <td>2025.0</td>\n",
       "      <td>Laranja</td>\n",
       "      <td>2025-05-31</td>\n",
       "      <td>Automovel</td>\n",
       "    </tr>\n",
       "  </tbody>\n",
       "</table>\n",
       "<p>757621 rows × 6 columns</p>\n",
       "</div>"
      ],
      "text/plain": [
       "        id_sinistro  ano_fab  ano_modelo cor_veiculo data_sinistro  \\\n",
       "0           2264832      0.0         0.0         NaN    2022-01-01   \n",
       "1           1820312      0.0         0.0         NaN    2022-01-01   \n",
       "2           1948466      0.0         0.0         NaN    2022-01-01   \n",
       "3           1334206   2015.0      2016.0      Marrom    2022-01-01   \n",
       "4           1510855   2016.0      2016.0       Cinza    2022-01-01   \n",
       "...             ...      ...         ...         ...           ...   \n",
       "757616      2607776      NaN         NaN         NaN    2025-05-31   \n",
       "757617      2608697   2013.0      2013.0       Prata    2025-05-31   \n",
       "757618      2608031   2009.0      2010.0       Prata    2025-05-31   \n",
       "757619      2610195   2022.0      2023.0        Bege    2025-05-31   \n",
       "757620      2610195   2024.0      2025.0     Laranja    2025-05-31   \n",
       "\n",
       "       tipo_veiculo  \n",
       "0              None  \n",
       "1              None  \n",
       "2              None  \n",
       "3         Automovel  \n",
       "4         Automovel  \n",
       "...             ...  \n",
       "757616    Automovel  \n",
       "757617    Automovel  \n",
       "757618    Automovel  \n",
       "757619  Motocicleta  \n",
       "757620    Automovel  \n",
       "\n",
       "[757621 rows x 6 columns]"
      ]
     },
     "execution_count": 25,
     "metadata": {},
     "output_type": "execute_result"
    }
   ],
   "source": [
    "df_veiculos"
   ]
  },
  {
   "cell_type": "code",
   "execution_count": 26,
   "id": "434aa4d2",
   "metadata": {},
   "outputs": [],
   "source": [
    "df_veiculos.to_excel(\"veiculos.xlsx\")"
   ]
  }
 ],
 "metadata": {
  "kernelspec": {
   "display_name": "Python 3",
   "language": "python",
   "name": "python3"
  },
  "language_info": {
   "codemirror_mode": {
    "name": "ipython",
    "version": 3
   },
   "file_extension": ".py",
   "mimetype": "text/x-python",
   "name": "python",
   "nbconvert_exporter": "python",
   "pygments_lexer": "ipython3",
   "version": "3.11.9"
  }
 },
 "nbformat": 4,
 "nbformat_minor": 5
}
