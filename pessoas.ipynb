{
 "cells": [
  {
   "cell_type": "code",
   "execution_count": 1,
   "id": "1d472660",
   "metadata": {},
   "outputs": [],
   "source": [
    "import pandas as pd"
   ]
  },
  {
   "cell_type": "code",
   "execution_count": 2,
   "id": "73e04c7b",
   "metadata": {},
   "outputs": [],
   "source": [
    "df_pessoas = pd.read_excel('Formato Novo/pessoas_2022-2025.xlsx')"
   ]
  },
  {
   "cell_type": "code",
   "execution_count": 3,
   "id": "75a07aeb",
   "metadata": {},
   "outputs": [],
   "source": [
    "pd.set_option('display.max_columns', None)"
   ]
  },
  {
   "cell_type": "code",
   "execution_count": 47,
   "id": "33f6455b",
   "metadata": {},
   "outputs": [
    {
     "data": {
      "text/html": [
       "<div>\n",
       "<style scoped>\n",
       "    .dataframe tbody tr th:only-of-type {\n",
       "        vertical-align: middle;\n",
       "    }\n",
       "\n",
       "    .dataframe tbody tr th {\n",
       "        vertical-align: top;\n",
       "    }\n",
       "\n",
       "    .dataframe thead th {\n",
       "        text-align: right;\n",
       "    }\n",
       "</style>\n",
       "<table border=\"1\" class=\"dataframe\">\n",
       "  <thead>\n",
       "    <tr style=\"text-align: right;\">\n",
       "      <th></th>\n",
       "      <th>id_sinistro</th>\n",
       "      <th>municipio</th>\n",
       "      <th>tipo_via</th>\n",
       "      <th>tipo_veiculo_vitima</th>\n",
       "      <th>sexo</th>\n",
       "      <th>idade</th>\n",
       "      <th>data_obito</th>\n",
       "      <th>gravidade_lesao</th>\n",
       "      <th>tipo_de vítima</th>\n",
       "      <th>faixa_etaria_demografica</th>\n",
       "      <th>faixa_etaria_legal</th>\n",
       "      <th>profissao</th>\n",
       "      <th>data_sinistro</th>\n",
       "    </tr>\n",
       "  </thead>\n",
       "  <tbody>\n",
       "    <tr>\n",
       "      <th>0</th>\n",
       "      <td>1819301</td>\n",
       "      <td>Oriente</td>\n",
       "      <td>Rodovias</td>\n",
       "      <td>NaN</td>\n",
       "      <td>Masculino</td>\n",
       "      <td>35</td>\n",
       "      <td>NaT</td>\n",
       "      <td>Leve</td>\n",
       "      <td>Condutor</td>\n",
       "      <td>35 a 39</td>\n",
       "      <td>35-39</td>\n",
       "      <td>Conferente</td>\n",
       "      <td>2022-01-01</td>\n",
       "    </tr>\n",
       "    <tr>\n",
       "      <th>1</th>\n",
       "      <td>1473586</td>\n",
       "      <td>Ilha Comprida</td>\n",
       "      <td>Vias Municipais</td>\n",
       "      <td>NaN</td>\n",
       "      <td>Masculino</td>\n",
       "      <td>43</td>\n",
       "      <td>NaT</td>\n",
       "      <td>None</td>\n",
       "      <td>Condutor</td>\n",
       "      <td>40 a 44</td>\n",
       "      <td>40-44</td>\n",
       "      <td>Atendente</td>\n",
       "      <td>2022-01-01</td>\n",
       "    </tr>\n",
       "    <tr>\n",
       "      <th>2</th>\n",
       "      <td>1556174</td>\n",
       "      <td>Igarapava</td>\n",
       "      <td>Rodovias</td>\n",
       "      <td>NaN</td>\n",
       "      <td>Feminino</td>\n",
       "      <td>27</td>\n",
       "      <td>NaT</td>\n",
       "      <td>Leve</td>\n",
       "      <td>Condutor</td>\n",
       "      <td>25 a 29</td>\n",
       "      <td>25-29</td>\n",
       "      <td>Biomedico(A)</td>\n",
       "      <td>2022-01-01</td>\n",
       "    </tr>\n",
       "    <tr>\n",
       "      <th>3</th>\n",
       "      <td>1538224</td>\n",
       "      <td>Sao Paulo</td>\n",
       "      <td>Vias Municipais</td>\n",
       "      <td>NaN</td>\n",
       "      <td>Masculino</td>\n",
       "      <td>20</td>\n",
       "      <td>NaT</td>\n",
       "      <td>None</td>\n",
       "      <td>None</td>\n",
       "      <td>20 a 24</td>\n",
       "      <td>18-24</td>\n",
       "      <td>NaN</td>\n",
       "      <td>2022-01-01</td>\n",
       "    </tr>\n",
       "    <tr>\n",
       "      <th>4</th>\n",
       "      <td>1904878</td>\n",
       "      <td>Leme</td>\n",
       "      <td>Vias Municipais</td>\n",
       "      <td>NaN</td>\n",
       "      <td>Masculino</td>\n",
       "      <td>44</td>\n",
       "      <td>NaT</td>\n",
       "      <td>Grave</td>\n",
       "      <td>None</td>\n",
       "      <td>40 a 44</td>\n",
       "      <td>40-44</td>\n",
       "      <td>Seguranca</td>\n",
       "      <td>2022-01-01</td>\n",
       "    </tr>\n",
       "    <tr>\n",
       "      <th>...</th>\n",
       "      <td>...</td>\n",
       "      <td>...</td>\n",
       "      <td>...</td>\n",
       "      <td>...</td>\n",
       "      <td>...</td>\n",
       "      <td>...</td>\n",
       "      <td>...</td>\n",
       "      <td>...</td>\n",
       "      <td>...</td>\n",
       "      <td>...</td>\n",
       "      <td>...</td>\n",
       "      <td>...</td>\n",
       "      <td>...</td>\n",
       "    </tr>\n",
       "    <tr>\n",
       "      <th>888987</th>\n",
       "      <td>2608847</td>\n",
       "      <td>Itapira</td>\n",
       "      <td>Vias Municipais</td>\n",
       "      <td>NaN</td>\n",
       "      <td>Masculino</td>\n",
       "      <td>31</td>\n",
       "      <td>NaT</td>\n",
       "      <td>None</td>\n",
       "      <td>Condutor</td>\n",
       "      <td>30 a 34</td>\n",
       "      <td>30-34</td>\n",
       "      <td>Motorista</td>\n",
       "      <td>2025-05-31</td>\n",
       "    </tr>\n",
       "    <tr>\n",
       "      <th>888988</th>\n",
       "      <td>2596088</td>\n",
       "      <td>Sao Paulo</td>\n",
       "      <td>Vias Municipais</td>\n",
       "      <td>NaN</td>\n",
       "      <td>Feminino</td>\n",
       "      <td>40</td>\n",
       "      <td>NaT</td>\n",
       "      <td>None</td>\n",
       "      <td>Condutor</td>\n",
       "      <td>40 a 44</td>\n",
       "      <td>40-44</td>\n",
       "      <td>Militar Na Ativa</td>\n",
       "      <td>2025-05-31</td>\n",
       "    </tr>\n",
       "    <tr>\n",
       "      <th>888989</th>\n",
       "      <td>2596982</td>\n",
       "      <td>Sao Paulo</td>\n",
       "      <td>Vias Municipais</td>\n",
       "      <td>NaN</td>\n",
       "      <td>Feminino</td>\n",
       "      <td>42</td>\n",
       "      <td>NaT</td>\n",
       "      <td>Leve</td>\n",
       "      <td>None</td>\n",
       "      <td>40 a 44</td>\n",
       "      <td>40-44</td>\n",
       "      <td>Vendedor(A)</td>\n",
       "      <td>2025-05-31</td>\n",
       "    </tr>\n",
       "    <tr>\n",
       "      <th>888990</th>\n",
       "      <td>2602909</td>\n",
       "      <td>Teodoro Sampaio</td>\n",
       "      <td>Vias Municipais</td>\n",
       "      <td>NaN</td>\n",
       "      <td>Feminino</td>\n",
       "      <td>53</td>\n",
       "      <td>NaT</td>\n",
       "      <td>Leve</td>\n",
       "      <td>Condutor</td>\n",
       "      <td>50 a 54</td>\n",
       "      <td>50-54</td>\n",
       "      <td>Assistente Social</td>\n",
       "      <td>2025-05-31</td>\n",
       "    </tr>\n",
       "    <tr>\n",
       "      <th>888991</th>\n",
       "      <td>2600028</td>\n",
       "      <td>Mogi Das Cruzes</td>\n",
       "      <td>Vias Municipais</td>\n",
       "      <td>NaN</td>\n",
       "      <td>Feminino</td>\n",
       "      <td>37</td>\n",
       "      <td>NaT</td>\n",
       "      <td>None</td>\n",
       "      <td>Condutor</td>\n",
       "      <td>35 a 39</td>\n",
       "      <td>35-39</td>\n",
       "      <td>Do Lar</td>\n",
       "      <td>2025-05-31</td>\n",
       "    </tr>\n",
       "  </tbody>\n",
       "</table>\n",
       "<p>888992 rows × 13 columns</p>\n",
       "</div>"
      ],
      "text/plain": [
       "        id_sinistro        municipio         tipo_via tipo_veiculo_vitima  \\\n",
       "0           1819301          Oriente         Rodovias                 NaN   \n",
       "1           1473586    Ilha Comprida  Vias Municipais                 NaN   \n",
       "2           1556174        Igarapava         Rodovias                 NaN   \n",
       "3           1538224        Sao Paulo  Vias Municipais                 NaN   \n",
       "4           1904878             Leme  Vias Municipais                 NaN   \n",
       "...             ...              ...              ...                 ...   \n",
       "888987      2608847          Itapira  Vias Municipais                 NaN   \n",
       "888988      2596088        Sao Paulo  Vias Municipais                 NaN   \n",
       "888989      2596982        Sao Paulo  Vias Municipais                 NaN   \n",
       "888990      2602909  Teodoro Sampaio  Vias Municipais                 NaN   \n",
       "888991      2600028  Mogi Das Cruzes  Vias Municipais                 NaN   \n",
       "\n",
       "             sexo  idade data_obito gravidade_lesao tipo_de vítima  \\\n",
       "0       Masculino     35        NaT            Leve       Condutor   \n",
       "1       Masculino     43        NaT            None       Condutor   \n",
       "2        Feminino     27        NaT            Leve       Condutor   \n",
       "3       Masculino     20        NaT            None           None   \n",
       "4       Masculino     44        NaT           Grave           None   \n",
       "...           ...    ...        ...             ...            ...   \n",
       "888987  Masculino     31        NaT            None       Condutor   \n",
       "888988   Feminino     40        NaT            None       Condutor   \n",
       "888989   Feminino     42        NaT            Leve           None   \n",
       "888990   Feminino     53        NaT            Leve       Condutor   \n",
       "888991   Feminino     37        NaT            None       Condutor   \n",
       "\n",
       "       faixa_etaria_demografica faixa_etaria_legal          profissao  \\\n",
       "0                       35 a 39              35-39         Conferente   \n",
       "1                       40 a 44              40-44          Atendente   \n",
       "2                       25 a 29              25-29       Biomedico(A)   \n",
       "3                       20 a 24              18-24                NaN   \n",
       "4                       40 a 44              40-44          Seguranca   \n",
       "...                         ...                ...                ...   \n",
       "888987                  30 a 34              30-34          Motorista   \n",
       "888988                  40 a 44              40-44   Militar Na Ativa   \n",
       "888989                  40 a 44              40-44        Vendedor(A)   \n",
       "888990                  50 a 54              50-54  Assistente Social   \n",
       "888991                  35 a 39              35-39             Do Lar   \n",
       "\n",
       "       data_sinistro  \n",
       "0         2022-01-01  \n",
       "1         2022-01-01  \n",
       "2         2022-01-01  \n",
       "3         2022-01-01  \n",
       "4         2022-01-01  \n",
       "...              ...  \n",
       "888987    2025-05-31  \n",
       "888988    2025-05-31  \n",
       "888989    2025-05-31  \n",
       "888990    2025-05-31  \n",
       "888991    2025-05-31  \n",
       "\n",
       "[888992 rows x 13 columns]"
      ]
     },
     "execution_count": 47,
     "metadata": {},
     "output_type": "execute_result"
    }
   ],
   "source": [
    "df_pessoas"
   ]
  },
  {
   "cell_type": "code",
   "execution_count": 35,
   "id": "4eb2255a",
   "metadata": {},
   "outputs": [],
   "source": [
    "df_pessoas = df_pessoas.drop(columns={\n",
    "    'ano_sinistro',\n",
    "    'mes_sinistro',\n",
    "    'dia_sinistro',\n",
    "    'ano_mes_sinistro',\n",
    "    'ano_obito',\n",
    "    'mes_obito',\n",
    "    'dia_obito',\n",
    "    'ano_mes_obito'\n",
    "})"
   ]
  },
  {
   "cell_type": "code",
   "execution_count": 12,
   "id": "d6342f0f",
   "metadata": {},
   "outputs": [
    {
     "data": {
      "text/plain": [
       "gravidade_lesao\n",
       "Leve     398082\n",
       "Grave     45332\n",
       "Fatal     19491\n",
       "Name: count, dtype: int64"
      ]
     },
     "execution_count": 12,
     "metadata": {},
     "output_type": "execute_result"
    }
   ],
   "source": [
    "df_pessoas.gravidade_lesao.value_counts()"
   ]
  },
  {
   "cell_type": "code",
   "execution_count": 9,
   "id": "ecb2c9a9",
   "metadata": {},
   "outputs": [],
   "source": [
    "df_pessoas.gravidade_lesao = df_pessoas.gravidade_lesao.str.title()"
   ]
  },
  {
   "cell_type": "code",
   "execution_count": 11,
   "id": "6719a0ea",
   "metadata": {},
   "outputs": [],
   "source": [
    "df_pessoas.gravidade_lesao = df_pessoas.gravidade_lesao.replace(\"Nao Disponivel\", None)"
   ]
  },
  {
   "cell_type": "code",
   "execution_count": 20,
   "id": "68172899",
   "metadata": {},
   "outputs": [
    {
     "data": {
      "text/plain": [
       "tipo_de vítima\n",
       "Condutor      421046\n",
       "Pedestre        4475\n",
       "Passageiro      2198\n",
       "Name: count, dtype: int64"
      ]
     },
     "execution_count": 20,
     "metadata": {},
     "output_type": "execute_result"
    }
   ],
   "source": [
    "df_pessoas['tipo_de vítima'].value_counts()"
   ]
  },
  {
   "cell_type": "code",
   "execution_count": 18,
   "id": "f07150c6",
   "metadata": {},
   "outputs": [],
   "source": [
    "df_pessoas['tipo_de vítima'] = df_pessoas['tipo_de vítima'].str.title()"
   ]
  },
  {
   "cell_type": "code",
   "execution_count": 19,
   "id": "fb83c12d",
   "metadata": {},
   "outputs": [],
   "source": [
    "df_pessoas['tipo_de vítima'] = df_pessoas['tipo_de vítima'].replace(\"Nao Disponivel\", None)"
   ]
  },
  {
   "cell_type": "code",
   "execution_count": 25,
   "id": "19ff5f18",
   "metadata": {},
   "outputs": [
    {
     "data": {
      "text/plain": [
       "tipo_via\n",
       "Vias Municipais    737218\n",
       "Rodovias           150619\n",
       "Name: count, dtype: int64"
      ]
     },
     "execution_count": 25,
     "metadata": {},
     "output_type": "execute_result"
    }
   ],
   "source": [
    "df_pessoas.tipo_via.value_counts()"
   ]
  },
  {
   "cell_type": "code",
   "execution_count": 23,
   "id": "35ed7bed",
   "metadata": {},
   "outputs": [],
   "source": [
    "df_pessoas.tipo_via = df_pessoas.tipo_via.str.title()"
   ]
  },
  {
   "cell_type": "code",
   "execution_count": 24,
   "id": "20b825e4",
   "metadata": {},
   "outputs": [],
   "source": [
    "df_pessoas.tipo_via = df_pessoas.tipo_via.replace(\"Nao Disponivel\", None)"
   ]
  },
  {
   "cell_type": "code",
   "execution_count": 29,
   "id": "77e33583",
   "metadata": {},
   "outputs": [
    {
     "data": {
      "text/plain": [
       "municipio\n",
       "Sao Paulo                208281\n",
       "Ribeirao Preto            22575\n",
       "Campinas                  22071\n",
       "Guarulhos                 21543\n",
       "Sao Jose Do Rio Preto     17788\n",
       "                          ...  \n",
       "Flora Rica                   11\n",
       "Nova Castilho                 8\n",
       "Sao Joao De Iracema           8\n",
       "Ribeirao Dos Indios           8\n",
       "Uru                           3\n",
       "Name: count, Length: 645, dtype: int64"
      ]
     },
     "execution_count": 29,
     "metadata": {},
     "output_type": "execute_result"
    }
   ],
   "source": [
    "df_pessoas.municipio.value_counts()"
   ]
  },
  {
   "cell_type": "code",
   "execution_count": 28,
   "id": "643ba7d7",
   "metadata": {},
   "outputs": [],
   "source": [
    "df_pessoas.municipio = df_pessoas.municipio.str.title()"
   ]
  },
  {
   "cell_type": "code",
   "execution_count": 33,
   "id": "b0bc6819",
   "metadata": {},
   "outputs": [
    {
     "data": {
      "text/plain": [
       "profissao\n",
       "Motorista                80718\n",
       "Autonomo(A)              53091\n",
       "Moto-Boy                 47553\n",
       "Aposentado(A)            42335\n",
       "Estudante                33850\n",
       "                         ...  \n",
       "Protetico Dentario           1\n",
       "Pintor De Obras              1\n",
       "Ajustador Mecanico           1\n",
       "Consultor Tecnico            1\n",
       "Tecnico Em Radiologia        1\n",
       "Name: count, Length: 579, dtype: int64"
      ]
     },
     "execution_count": 33,
     "metadata": {},
     "output_type": "execute_result"
    }
   ],
   "source": [
    "df_pessoas.profissao.value_counts()"
   ]
  },
  {
   "cell_type": "code",
   "execution_count": 32,
   "id": "5cfdd5a1",
   "metadata": {},
   "outputs": [],
   "source": [
    "df_pessoas.profissao = df_pessoas.profissao.str.title()"
   ]
  },
  {
   "cell_type": "code",
   "execution_count": 40,
   "id": "0b353b6a",
   "metadata": {},
   "outputs": [
    {
     "data": {
      "text/plain": [
       "sexo\n",
       "Masculino    638050\n",
       "Feminino     249350\n",
       "Name: count, dtype: int64"
      ]
     },
     "execution_count": 40,
     "metadata": {},
     "output_type": "execute_result"
    }
   ],
   "source": [
    "df_pessoas.sexo.value_counts()"
   ]
  },
  {
   "cell_type": "code",
   "execution_count": 38,
   "id": "910306bb",
   "metadata": {},
   "outputs": [],
   "source": [
    "df_pessoas.sexo = df_pessoas.sexo.str.title()"
   ]
  },
  {
   "cell_type": "code",
   "execution_count": 39,
   "id": "7874f701",
   "metadata": {},
   "outputs": [],
   "source": [
    "df_pessoas.sexo = df_pessoas.sexo.replace(\"Nao Disponivel\", None)"
   ]
  },
  {
   "cell_type": "code",
   "execution_count": 46,
   "id": "5a2b3b4d",
   "metadata": {},
   "outputs": [
    {
     "data": {
      "text/plain": [
       "id_sinistro                          int64\n",
       "municipio                           object\n",
       "tipo_via                            object\n",
       "tipo_veiculo_vitima                 object\n",
       "sexo                                object\n",
       "idade                                Int64\n",
       "data_obito                  datetime64[ns]\n",
       "gravidade_lesao                     object\n",
       "tipo_de vítima                      object\n",
       "faixa_etaria_demografica            object\n",
       "faixa_etaria_legal                  object\n",
       "profissao                           object\n",
       "data_sinistro               datetime64[ns]\n",
       "dtype: object"
      ]
     },
     "execution_count": 46,
     "metadata": {},
     "output_type": "execute_result"
    }
   ],
   "source": [
    "df_pessoas.dtypes"
   ]
  },
  {
   "cell_type": "code",
   "execution_count": 45,
   "id": "fc77033d",
   "metadata": {},
   "outputs": [],
   "source": [
    "df_pessoas.idade = df_pessoas.idade.astype('Int64')"
   ]
  },
  {
   "cell_type": "code",
   "execution_count": 48,
   "id": "c21d7d87",
   "metadata": {},
   "outputs": [],
   "source": [
    "df_pessoas.to_excel(\"pessoas.xlsx\")"
   ]
  }
 ],
 "metadata": {
  "kernelspec": {
   "display_name": "Python 3",
   "language": "python",
   "name": "python3"
  },
  "language_info": {
   "codemirror_mode": {
    "name": "ipython",
    "version": 3
   },
   "file_extension": ".py",
   "mimetype": "text/x-python",
   "name": "python",
   "nbconvert_exporter": "python",
   "pygments_lexer": "ipython3",
   "version": "3.11.9"
  }
 },
 "nbformat": 4,
 "nbformat_minor": 5
}
